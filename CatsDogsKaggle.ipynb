{
  "cells": [
    {
      "cell_type": "markdown",
      "metadata": {
        "id": "view-in-github",
        "colab_type": "text"
      },
      "source": [
        "<a href=\"https://colab.research.google.com/github/Zangetsu112/Cats-Dogs-ClassifierCNN/blob/main/CatsDogsKaggle.ipynb\" target=\"_parent\"><img src=\"https://colab.research.google.com/assets/colab-badge.svg\" alt=\"Open In Colab\"/></a>"
      ]
    },
    {
      "cell_type": "code",
      "execution_count": 1,
      "metadata": {
        "id": "vnGczcm7XWnh",
        "colab": {
          "base_uri": "https://localhost:8080/"
        },
        "outputId": "e3451233-90e2-4ba1-81be-84e396c305f2"
      },
      "outputs": [
        {
          "output_type": "stream",
          "name": "stdout",
          "text": [
            "Model: \"sequential\"\n",
            "_________________________________________________________________\n",
            " Layer (type)                Output Shape              Param #   \n",
            "=================================================================\n",
            " conv2d (Conv2D)             (None, 148, 148, 32)      896       \n",
            "                                                                 \n",
            " max_pooling2d (MaxPooling2D  (None, 74, 74, 32)       0         \n",
            " )                                                               \n",
            "                                                                 \n",
            " conv2d_1 (Conv2D)           (None, 72, 72, 64)        18496     \n",
            "                                                                 \n",
            " max_pooling2d_1 (MaxPooling  (None, 36, 36, 64)       0         \n",
            " 2D)                                                             \n",
            "                                                                 \n",
            " conv2d_2 (Conv2D)           (None, 34, 34, 128)       73856     \n",
            "                                                                 \n",
            " max_pooling2d_2 (MaxPooling  (None, 17, 17, 128)      0         \n",
            " 2D)                                                             \n",
            "                                                                 \n",
            " conv2d_3 (Conv2D)           (None, 15, 15, 128)       147584    \n",
            "                                                                 \n",
            " max_pooling2d_3 (MaxPooling  (None, 7, 7, 128)        0         \n",
            " 2D)                                                             \n",
            "                                                                 \n",
            " flatten (Flatten)           (None, 6272)              0         \n",
            "                                                                 \n",
            " dropout (Dropout)           (None, 6272)              0         \n",
            "                                                                 \n",
            " dense (Dense)               (None, 512)               3211776   \n",
            "                                                                 \n",
            " dense_1 (Dense)             (None, 1)                 513       \n",
            "                                                                 \n",
            "=================================================================\n",
            "Total params: 3,453,121\n",
            "Trainable params: 3,453,121\n",
            "Non-trainable params: 0\n",
            "_________________________________________________________________\n"
          ]
        }
      ],
      "source": [
        "from keras import layers, models\n",
        "\n",
        "model = models.Sequential()\n",
        "model.add(layers.Conv2D(32, (3, 3), activation='relu', input_shape=(150, 150, 3)))\n",
        "model.add(layers.MaxPooling2D((2, 2)))\n",
        "model.add(layers.Conv2D(64, (3, 3), activation='relu'))\n",
        "model.add(layers.MaxPooling2D((2, 2)))\n",
        "model.add(layers.Conv2D(128, (3, 3), activation='relu'))\n",
        "model.add(layers.MaxPooling2D((2, 2)))\n",
        "model.add(layers.Conv2D(128, (3, 3), activation='relu'))\n",
        "model.add(layers.MaxPooling2D((2, 2)))\n",
        "model.add(layers.Flatten())\n",
        "model.add(layers.Dropout(0.5))\n",
        "model.add(layers.Dense(512, activation='relu'))\n",
        "model.add(layers.Dense(1, activation='sigmoid'))\n",
        "\n",
        "from tensorflow.keras import optimizers\n",
        "model.compile(loss=\"binary_crossentropy\", \n",
        "                optimizer=optimizers.RMSprop(learning_rate=1e-4), \n",
        "                metrics=['accuracy'])\n",
        "\n",
        "model.summary()\n"
      ]
    },
    {
      "cell_type": "code",
      "execution_count": 2,
      "metadata": {
        "colab": {
          "base_uri": "https://localhost:8080/"
        },
        "id": "gRHUR5hDXXPW",
        "outputId": "770571e2-b898-4214-b59a-4293274bd28c"
      },
      "outputs": [
        {
          "output_type": "stream",
          "name": "stdout",
          "text": [
            "Found 2030 images belonging to 2 classes.\n",
            "Found 1500 images belonging to 2 classes.\n"
          ]
        }
      ],
      "source": [
        "from keras.preprocessing.image import ImageDataGenerator\n",
        "\n",
        "train_datagen = ImageDataGenerator( \n",
        "    rescale=1./255,\n",
        "    rotation_range=40,\n",
        "    width_shift_range=0.2,\n",
        "    height_shift_range=0.2,\n",
        "    shear_range=0.2,\n",
        "    zoom_range=0.2,\n",
        "    horizontal_flip=True\n",
        ")\n",
        "\n",
        "test_datagen = ImageDataGenerator(rescale=1./255)\n",
        "\n",
        "train_generator = train_datagen.flow_from_directory(\n",
        "        \"/content/drive/MyDrive/cats-and-dogs/train\",\n",
        "        target_size=(150, 150),\n",
        "        batch_size=20, \n",
        "        class_mode='binary')\n",
        "\n",
        "validation_generator = test_datagen.flow_from_directory(\n",
        "        \"/content/drive/MyDrive/cats-and-dogs/validation\", \n",
        "        target_size=(150, 150),\n",
        "        batch_size=20, \n",
        "        class_mode='binary')\n"
      ]
    },
    {
      "cell_type": "code",
      "execution_count": 3,
      "metadata": {
        "colab": {
          "base_uri": "https://localhost:8080/"
        },
        "id": "0cRSHSg_XXpO",
        "outputId": "f2fcf985-833b-4d30-b0da-13322f671663"
      },
      "outputs": [
        {
          "output_type": "stream",
          "name": "stdout",
          "text": [
            "Epoch 1/70\n",
            "100/100 [==============================] - 146s 1s/step - loss: 0.6939 - accuracy: 0.5050 - val_loss: 0.7073 - val_accuracy: 0.3580\n",
            "Epoch 2/70\n",
            "100/100 [==============================] - 121s 1s/step - loss: 0.6834 - accuracy: 0.5618 - val_loss: 0.6302 - val_accuracy: 0.6880\n",
            "Epoch 3/70\n",
            "100/100 [==============================] - 122s 1s/step - loss: 0.6744 - accuracy: 0.5698 - val_loss: 0.7980 - val_accuracy: 0.4100\n",
            "Epoch 4/70\n",
            "100/100 [==============================] - 121s 1s/step - loss: 0.6691 - accuracy: 0.5990 - val_loss: 0.6815 - val_accuracy: 0.5700\n",
            "Epoch 5/70\n",
            "100/100 [==============================] - 122s 1s/step - loss: 0.6586 - accuracy: 0.5990 - val_loss: 0.6295 - val_accuracy: 0.6630\n",
            "Epoch 6/70\n",
            "100/100 [==============================] - 120s 1s/step - loss: 0.6395 - accuracy: 0.6307 - val_loss: 0.6427 - val_accuracy: 0.6270\n",
            "Epoch 7/70\n",
            "100/100 [==============================] - 123s 1s/step - loss: 0.6378 - accuracy: 0.6342 - val_loss: 0.5561 - val_accuracy: 0.7470\n",
            "Epoch 8/70\n",
            "100/100 [==============================] - 120s 1s/step - loss: 0.6184 - accuracy: 0.6538 - val_loss: 0.5995 - val_accuracy: 0.6890\n",
            "Epoch 9/70\n",
            "100/100 [==============================] - 123s 1s/step - loss: 0.6033 - accuracy: 0.6688 - val_loss: 0.6181 - val_accuracy: 0.6580\n",
            "Epoch 10/70\n",
            "100/100 [==============================] - 120s 1s/step - loss: 0.6073 - accuracy: 0.6633 - val_loss: 0.6008 - val_accuracy: 0.6860\n",
            "Epoch 11/70\n",
            "100/100 [==============================] - 122s 1s/step - loss: 0.5860 - accuracy: 0.6819 - val_loss: 0.5971 - val_accuracy: 0.6700\n",
            "Epoch 12/70\n",
            "100/100 [==============================] - 121s 1s/step - loss: 0.5889 - accuracy: 0.6889 - val_loss: 0.5240 - val_accuracy: 0.7770\n",
            "Epoch 13/70\n",
            "100/100 [==============================] - 120s 1s/step - loss: 0.5833 - accuracy: 0.6839 - val_loss: 0.5618 - val_accuracy: 0.7130\n",
            "Epoch 14/70\n",
            "100/100 [==============================] - 122s 1s/step - loss: 0.5733 - accuracy: 0.7116 - val_loss: 0.6263 - val_accuracy: 0.6610\n",
            "Epoch 15/70\n",
            "100/100 [==============================] - 121s 1s/step - loss: 0.5655 - accuracy: 0.7000 - val_loss: 0.6209 - val_accuracy: 0.6790\n",
            "Epoch 16/70\n",
            "100/100 [==============================] - 122s 1s/step - loss: 0.5676 - accuracy: 0.7025 - val_loss: 0.5565 - val_accuracy: 0.7180\n",
            "Epoch 17/70\n",
            "100/100 [==============================] - 120s 1s/step - loss: 0.5639 - accuracy: 0.7101 - val_loss: 0.6312 - val_accuracy: 0.6650\n",
            "Epoch 18/70\n",
            "100/100 [==============================] - 122s 1s/step - loss: 0.5516 - accuracy: 0.7191 - val_loss: 0.5174 - val_accuracy: 0.7430\n",
            "Epoch 19/70\n",
            "100/100 [==============================] - 119s 1s/step - loss: 0.5532 - accuracy: 0.7221 - val_loss: 0.4706 - val_accuracy: 0.7940\n",
            "Epoch 20/70\n",
            "100/100 [==============================] - 122s 1s/step - loss: 0.5478 - accuracy: 0.7156 - val_loss: 0.4601 - val_accuracy: 0.7960\n",
            "Epoch 21/70\n",
            "100/100 [==============================] - 120s 1s/step - loss: 0.5518 - accuracy: 0.7186 - val_loss: 0.4587 - val_accuracy: 0.8060\n",
            "Epoch 22/70\n",
            "100/100 [==============================] - 120s 1s/step - loss: 0.5518 - accuracy: 0.7166 - val_loss: 0.5733 - val_accuracy: 0.7050\n",
            "Epoch 23/70\n",
            "100/100 [==============================] - 121s 1s/step - loss: 0.5506 - accuracy: 0.7166 - val_loss: 0.4595 - val_accuracy: 0.8040\n",
            "Epoch 24/70\n",
            "100/100 [==============================] - 120s 1s/step - loss: 0.5325 - accuracy: 0.7305 - val_loss: 0.4393 - val_accuracy: 0.8030\n",
            "Epoch 25/70\n",
            "100/100 [==============================] - 121s 1s/step - loss: 0.5428 - accuracy: 0.7196 - val_loss: 0.4766 - val_accuracy: 0.7860\n",
            "Epoch 26/70\n",
            "100/100 [==============================] - 119s 1s/step - loss: 0.5307 - accuracy: 0.7387 - val_loss: 0.5042 - val_accuracy: 0.7630\n",
            "Epoch 27/70\n",
            "100/100 [==============================] - 121s 1s/step - loss: 0.5294 - accuracy: 0.7397 - val_loss: 0.4774 - val_accuracy: 0.7790\n",
            "Epoch 28/70\n",
            "100/100 [==============================] - 122s 1s/step - loss: 0.5312 - accuracy: 0.7387 - val_loss: 0.4361 - val_accuracy: 0.7980\n",
            "Epoch 29/70\n",
            "100/100 [==============================] - 122s 1s/step - loss: 0.5202 - accuracy: 0.7372 - val_loss: 0.4479 - val_accuracy: 0.7940\n",
            "Epoch 30/70\n",
            "100/100 [==============================] - 119s 1s/step - loss: 0.5194 - accuracy: 0.7422 - val_loss: 0.4534 - val_accuracy: 0.7990\n",
            "Epoch 31/70\n",
            "100/100 [==============================] - 120s 1s/step - loss: 0.5155 - accuracy: 0.7417 - val_loss: 0.4754 - val_accuracy: 0.7700\n",
            "Epoch 32/70\n",
            "100/100 [==============================] - 122s 1s/step - loss: 0.5101 - accuracy: 0.7497 - val_loss: 0.4203 - val_accuracy: 0.8150\n",
            "Epoch 33/70\n",
            "100/100 [==============================] - 124s 1s/step - loss: 0.5102 - accuracy: 0.7467 - val_loss: 0.5676 - val_accuracy: 0.6960\n",
            "Epoch 34/70\n",
            "100/100 [==============================] - 124s 1s/step - loss: 0.5091 - accuracy: 0.7513 - val_loss: 0.4267 - val_accuracy: 0.8040\n",
            "Epoch 35/70\n",
            "100/100 [==============================] - 121s 1s/step - loss: 0.5108 - accuracy: 0.7482 - val_loss: 0.4575 - val_accuracy: 0.7830\n",
            "Epoch 36/70\n",
            "100/100 [==============================] - 121s 1s/step - loss: 0.5039 - accuracy: 0.7497 - val_loss: 0.4181 - val_accuracy: 0.8290\n",
            "Epoch 37/70\n",
            "100/100 [==============================] - 123s 1s/step - loss: 0.4910 - accuracy: 0.7618 - val_loss: 0.4297 - val_accuracy: 0.8010\n",
            "Epoch 38/70\n",
            "100/100 [==============================] - 121s 1s/step - loss: 0.4971 - accuracy: 0.7548 - val_loss: 0.4409 - val_accuracy: 0.8080\n",
            "Epoch 39/70\n",
            "100/100 [==============================] - 123s 1s/step - loss: 0.4968 - accuracy: 0.7583 - val_loss: 0.4136 - val_accuracy: 0.8190\n",
            "Epoch 40/70\n",
            "100/100 [==============================] - 121s 1s/step - loss: 0.4875 - accuracy: 0.7508 - val_loss: 0.4932 - val_accuracy: 0.7450\n",
            "Epoch 41/70\n",
            "100/100 [==============================] - 123s 1s/step - loss: 0.4843 - accuracy: 0.7663 - val_loss: 0.4119 - val_accuracy: 0.8120\n",
            "Epoch 42/70\n",
            "100/100 [==============================] - 121s 1s/step - loss: 0.4801 - accuracy: 0.7635 - val_loss: 0.5205 - val_accuracy: 0.7420\n",
            "Epoch 43/70\n",
            "100/100 [==============================] - 124s 1s/step - loss: 0.4894 - accuracy: 0.7633 - val_loss: 0.4919 - val_accuracy: 0.7490\n",
            "Epoch 44/70\n",
            "100/100 [==============================] - 121s 1s/step - loss: 0.4818 - accuracy: 0.7688 - val_loss: 0.4371 - val_accuracy: 0.8050\n",
            "Epoch 45/70\n",
            "100/100 [==============================] - 122s 1s/step - loss: 0.4743 - accuracy: 0.7744 - val_loss: 0.4144 - val_accuracy: 0.8250\n",
            "Epoch 46/70\n",
            "100/100 [==============================] - 121s 1s/step - loss: 0.4753 - accuracy: 0.7759 - val_loss: 0.4256 - val_accuracy: 0.8060\n",
            "Epoch 47/70\n",
            "100/100 [==============================] - 121s 1s/step - loss: 0.4925 - accuracy: 0.7633 - val_loss: 0.4968 - val_accuracy: 0.7550\n",
            "Epoch 48/70\n",
            "100/100 [==============================] - 121s 1s/step - loss: 0.4727 - accuracy: 0.7774 - val_loss: 0.3583 - val_accuracy: 0.8580\n",
            "Epoch 49/70\n",
            "100/100 [==============================] - 120s 1s/step - loss: 0.4712 - accuracy: 0.7704 - val_loss: 0.4355 - val_accuracy: 0.8050\n",
            "Epoch 50/70\n",
            "100/100 [==============================] - 120s 1s/step - loss: 0.4713 - accuracy: 0.7683 - val_loss: 0.3944 - val_accuracy: 0.8320\n",
            "Epoch 51/70\n",
            "100/100 [==============================] - 120s 1s/step - loss: 0.4714 - accuracy: 0.7638 - val_loss: 0.4719 - val_accuracy: 0.7710\n",
            "Epoch 52/70\n",
            "100/100 [==============================] - 122s 1s/step - loss: 0.4551 - accuracy: 0.7844 - val_loss: 0.3897 - val_accuracy: 0.8300\n",
            "Epoch 53/70\n",
            "100/100 [==============================] - 120s 1s/step - loss: 0.4582 - accuracy: 0.7724 - val_loss: 0.3989 - val_accuracy: 0.8290\n",
            "Epoch 54/70\n",
            "100/100 [==============================] - 120s 1s/step - loss: 0.4646 - accuracy: 0.7764 - val_loss: 0.7886 - val_accuracy: 0.6020\n",
            "Epoch 55/70\n",
            "100/100 [==============================] - 120s 1s/step - loss: 0.4405 - accuracy: 0.7975 - val_loss: 0.3573 - val_accuracy: 0.8410\n",
            "Epoch 56/70\n",
            "100/100 [==============================] - 122s 1s/step - loss: 0.4537 - accuracy: 0.7779 - val_loss: 0.3894 - val_accuracy: 0.8380\n",
            "Epoch 57/70\n",
            "100/100 [==============================] - 120s 1s/step - loss: 0.4538 - accuracy: 0.7879 - val_loss: 0.3837 - val_accuracy: 0.8290\n",
            "Epoch 58/70\n",
            "100/100 [==============================] - 122s 1s/step - loss: 0.4368 - accuracy: 0.8020 - val_loss: 0.4154 - val_accuracy: 0.8130\n",
            "Epoch 59/70\n",
            "100/100 [==============================] - 121s 1s/step - loss: 0.4607 - accuracy: 0.7769 - val_loss: 0.3802 - val_accuracy: 0.8370\n",
            "Epoch 60/70\n",
            "100/100 [==============================] - 120s 1s/step - loss: 0.4510 - accuracy: 0.7764 - val_loss: 0.4005 - val_accuracy: 0.8260\n",
            "Epoch 61/70\n",
            "100/100 [==============================] - 122s 1s/step - loss: 0.4473 - accuracy: 0.7930 - val_loss: 0.4123 - val_accuracy: 0.8120\n",
            "Epoch 62/70\n",
            "100/100 [==============================] - 120s 1s/step - loss: 0.4494 - accuracy: 0.7905 - val_loss: 0.4600 - val_accuracy: 0.7850\n",
            "Epoch 63/70\n",
            "100/100 [==============================] - 122s 1s/step - loss: 0.4502 - accuracy: 0.7864 - val_loss: 0.4308 - val_accuracy: 0.8090\n",
            "Epoch 64/70\n",
            "100/100 [==============================] - 120s 1s/step - loss: 0.4511 - accuracy: 0.7789 - val_loss: 0.3837 - val_accuracy: 0.8300\n",
            "Epoch 65/70\n",
            "100/100 [==============================] - 119s 1s/step - loss: 0.4435 - accuracy: 0.7819 - val_loss: 0.4462 - val_accuracy: 0.7920\n",
            "Epoch 66/70\n",
            "100/100 [==============================] - 122s 1s/step - loss: 0.4490 - accuracy: 0.7874 - val_loss: 0.6254 - val_accuracy: 0.6610\n",
            "Epoch 67/70\n",
            "100/100 [==============================] - 120s 1s/step - loss: 0.4303 - accuracy: 0.7864 - val_loss: 0.3654 - val_accuracy: 0.8360\n",
            "Epoch 68/70\n",
            "100/100 [==============================] - 120s 1s/step - loss: 0.4332 - accuracy: 0.7945 - val_loss: 0.3921 - val_accuracy: 0.8270\n",
            "Epoch 69/70\n",
            "100/100 [==============================] - 122s 1s/step - loss: 0.4392 - accuracy: 0.7915 - val_loss: 0.4429 - val_accuracy: 0.7930\n",
            "Epoch 70/70\n",
            "100/100 [==============================] - 120s 1s/step - loss: 0.4273 - accuracy: 0.8065 - val_loss: 0.4079 - val_accuracy: 0.8270\n"
          ]
        }
      ],
      "source": [
        "history = model.fit(\n",
        "        train_generator, \n",
        "        steps_per_epoch=100, \n",
        "        epochs=70, \n",
        "        validation_data=validation_generator, \n",
        "        validation_steps=50)\n",
        "\n",
        "model.save('/content/drive/MyDrive/cats-and-dogs/cats-and-dogs-v1.h5')"
      ]
    },
    {
      "cell_type": "code",
      "execution_count": 4,
      "metadata": {
        "id": "jhvAMbuZ8ljc",
        "colab": {
          "base_uri": "https://localhost:8080/",
          "height": 545
        },
        "outputId": "426a6daa-93f4-422f-f4ee-d4bf0112afd8"
      },
      "outputs": [
        {
          "output_type": "display_data",
          "data": {
            "text/plain": [
              "<Figure size 432x288 with 1 Axes>"
            ],
            "image/png": "[encoded data removed]"
          },
          "metadata": {
            "needs_background": "light"
          }
        },
        {
          "output_type": "display_data",
          "data": {
            "text/plain": [
              "<Figure size 432x288 with 1 Axes>"
            ],
            "image/png": "[encoded data removed]"
          },
          "metadata": {
            "needs_background": "light"
          }
        }
      ],
      "source": [
        "import matplotlib.pyplot as plt \n",
        "\n",
        "acc = history.history['accuracy']\n",
        "loss = history.history['loss']\n",
        "val_loss = history.history['val_loss']\n",
        "val_acc = history.history['val_accuracy']\n",
        "\n",
        "epochs = [x for x in range(1, len(acc)+1)]\n",
        "\n",
        "plt.plot(epochs, acc, 'r', label='Training Accuracy')\n",
        "plt.plot(epochs, val_acc, 'b', label='Validation Accuracy')\n",
        "plt.title('Training and Validation Accuracy')\n",
        "plt.legend()\n",
        "plt.figure()\n",
        "\n",
        "plt.plot(epochs, loss, 'r', label='Training Loss')\n",
        "plt.plot(epochs, val_loss, 'b', label='Validation Loss')\n",
        "plt.legend()\n",
        "plt.title('Training and Validation loss')\n",
        "plt.show()"
      ]
    },
    {
      "cell_type": "code",
      "source": [
        "test_generator = test_datagen.flow_from_directory(\n",
        "        \"/content/drive/MyDrive/cats-and-dogs/test\", \n",
        "        target_size=(150, 150),\n",
        "        batch_size=20, \n",
        "        class_mode='binary')\n",
        "model.evaluate(test_generator, batch_size=20)"
      ],
      "metadata": {
        "colab": {
          "base_uri": "https://localhost:8080/"
        },
        "id": "wCdp-mj-Ipls",
        "outputId": "02412b59-e17f-49c3-89ff-d566986d4865"
      },
      "execution_count": 5,
      "outputs": [
        {
          "output_type": "stream",
          "name": "stdout",
          "text": [
            "Found 1510 images belonging to 2 classes.\n",
            "76/76 [==============================] - 255s 3s/step - loss: 0.4330 - accuracy: 0.8172\n"
          ]
        },
        {
          "output_type": "execute_result",
          "data": {
            "text/plain": [
              "[0.432990700006485, 0.817218542098999]"
            ]
          },
          "metadata": {},
          "execution_count": 5
        }
      ]
    }
  ],
  "metadata": {
    "colab": {
      "name": "CatsDogsKaggle.ipynb",
      "provenance": [],
      "collapsed_sections": [],
      "mount_file_id": "1Bw3cXQbZ_bMIpHKPFWoc8-0JHX7EU1BB",
      "authorship_tag": "ABX9TyPtdMgkpWUEhY0GFc73VipU",
      "include_colab_link": true
    },
    "kernelspec": {
      "display_name": "Python 3",
      "name": "python3"
    },
    "language_info": {
      "name": "python"
    }
  },
  "nbformat": 4,
  "nbformat_minor": 0
}