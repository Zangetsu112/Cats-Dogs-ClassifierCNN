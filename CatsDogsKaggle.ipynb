{
  "cells": [
    {
      "cell_type": "markdown",
      "metadata": {
        "id": "view-in-github",
        "colab_type": "text"
      },
      "source": [
        "<a href=\"https://colab.research.google.com/github/Zangetsu112/Cats-Dogs-ClassifierCNN/blob/main/CatsDogsKaggle.ipynb\" target=\"_parent\"><img src=\"https://colab.research.google.com/assets/colab-badge.svg\" alt=\"Open In Colab\"/></a>"
      ]
    },
    {
      "cell_type": "code",
      "execution_count": 1,
      "metadata": {
        "id": "vnGczcm7XWnh"
      },
      "outputs": [],
      "source": [
        "from keras import layers, models\n",
        "\n",
        "model = models.Sequential()\n",
        "model.add(layers.Conv2D(32, (3, 3), activation='relu', input_shape=(150, 150, 3)))\n",
        "model.add(layers.MaxPooling2D((2, 2)))\n",
        "model.add(layers.Conv2D(64, (3, 3), activation='relu'))\n",
        "model.add(layers.MaxPooling2D((2, 2)))\n",
        "model.add(layers.Conv2D(128, (3, 3), activation='relu'))\n",
        "model.add(layers.MaxPooling2D((2, 2)))\n",
        "model.add(layers.Conv2D(128, (3, 3), activation='relu'))\n",
        "model.add(layers.MaxPooling2D((2, 2)))\n",
        "model.add(layers.Flatten())\n",
        "model.add(layers.Dense(512, activation='relu'))\n",
        "model.add(layers.Dense(1, activation='relu'))\n",
        "\n",
        "from tensorflow.keras import optimizers\n",
        "model.compile(loss=\"binary_crossentropy\", \n",
        "                optimizer=optimizers.RMSprop(learning_rate=1e-4), \n",
        "                metrics=['accuracy'])\n",
        "\n"
      ]
    },
    {
      "cell_type": "code",
      "execution_count": 2,
      "metadata": {
        "colab": {
          "base_uri": "https://localhost:8080/"
        },
        "id": "gRHUR5hDXXPW",
        "outputId": "f26ff4fe-fd48-423c-8bee-1b93b6acd3d7"
      },
      "outputs": [
        {
          "output_type": "stream",
          "name": "stdout",
          "text": [
            "Found 2030 images belonging to 2 classes.\n",
            "Found 1500 images belonging to 2 classes.\n"
          ]
        }
      ],
      "source": [
        "from keras.preprocessing.image import ImageDataGenerator\n",
        "\n",
        "train_datagen = ImageDataGenerator(rescale=1./255)\n",
        "test_datagen = ImageDataGenerator(rescale=1./255)\n",
        "\n",
        "train_generator = train_datagen.flow_from_directory(\n",
        "        \"/content/drive/MyDrive/cats-and-dogs/train\",\n",
        "        target_size=(150, 150),\n",
        "        batch_size=20, \n",
        "        class_mode='binary')\n",
        "\n",
        "validation_generator = test_datagen.flow_from_directory(\n",
        "        \"/content/drive/MyDrive/cats-and-dogs/validation\", \n",
        "        target_size=(150, 150),\n",
        "        batch_size=20, \n",
        "        class_mode='binary')\n"
      ]
    },
    {
      "cell_type": "code",
      "execution_count": 3,
      "metadata": {
        "colab": {
          "base_uri": "https://localhost:8080/"
        },
        "id": "0cRSHSg_XXpO",
        "outputId": "1d7fc72c-e824-4e7e-ea05-1c6b42c72a64"
      },
      "outputs": [
        {
          "output_type": "stream",
          "name": "stdout",
          "text": [
            "Epoch 1/30\n",
            "100/100 [==============================] - 358s 3s/step - loss: 7.7822 - accuracy: 0.4955 - val_loss: 5.2753 - val_accuracy: 0.6580\n",
            "Epoch 2/30\n",
            "100/100 [==============================] - 154s 2s/step - loss: 7.7357 - accuracy: 0.4985 - val_loss: 5.0440 - val_accuracy: 0.6730\n",
            "Epoch 3/30\n",
            "100/100 [==============================] - 121s 1s/step - loss: 7.7822 - accuracy: 0.4955 - val_loss: 5.2599 - val_accuracy: 0.6590\n",
            "Epoch 4/30\n",
            "100/100 [==============================] - 114s 1s/step - loss: 7.7822 - accuracy: 0.4955 - val_loss: 5.2136 - val_accuracy: 0.6620\n",
            "Epoch 5/30\n",
            "100/100 [==============================] - 110s 1s/step - loss: 7.7435 - accuracy: 0.4980 - val_loss: 5.1674 - val_accuracy: 0.6650\n",
            "Epoch 6/30\n",
            "100/100 [==============================] - 112s 1s/step - loss: 7.7822 - accuracy: 0.4955 - val_loss: 4.8897 - val_accuracy: 0.6830\n",
            "Epoch 7/30\n",
            "100/100 [==============================] - 109s 1s/step - loss: 7.7435 - accuracy: 0.4980 - val_loss: 5.0285 - val_accuracy: 0.6740\n",
            "Epoch 8/30\n",
            "100/100 [==============================] - 109s 1s/step - loss: 7.7590 - accuracy: 0.4970 - val_loss: 5.2599 - val_accuracy: 0.6590\n",
            "Epoch 9/30\n",
            "100/100 [==============================] - 110s 1s/step - loss: 7.7435 - accuracy: 0.4980 - val_loss: 5.0594 - val_accuracy: 0.6720\n",
            "Epoch 10/30\n",
            "100/100 [==============================] - 110s 1s/step - loss: 7.7357 - accuracy: 0.4985 - val_loss: 5.4142 - val_accuracy: 0.6490\n",
            "Epoch 11/30\n",
            "100/100 [==============================] - 113s 1s/step - loss: 7.7512 - accuracy: 0.4975 - val_loss: 5.1365 - val_accuracy: 0.6670\n",
            "Epoch 12/30\n",
            "100/100 [==============================] - 111s 1s/step - loss: 7.7357 - accuracy: 0.4985 - val_loss: 5.1519 - val_accuracy: 0.6660\n",
            "Epoch 13/30\n",
            "100/100 [==============================] - 112s 1s/step - loss: 7.7202 - accuracy: 0.4995 - val_loss: 5.3370 - val_accuracy: 0.6540\n",
            "Epoch 14/30\n",
            "100/100 [==============================] - 109s 1s/step - loss: 7.7512 - accuracy: 0.4975 - val_loss: 5.2445 - val_accuracy: 0.6600\n",
            "Epoch 15/30\n",
            "100/100 [==============================] - 112s 1s/step - loss: 7.7745 - accuracy: 0.4960 - val_loss: 5.3062 - val_accuracy: 0.6560\n",
            "Epoch 16/30\n",
            "100/100 [==============================] - 110s 1s/step - loss: 7.7512 - accuracy: 0.4975 - val_loss: 5.4142 - val_accuracy: 0.6490\n",
            "Epoch 17/30\n",
            "100/100 [==============================] - 112s 1s/step - loss: 7.7822 - accuracy: 0.4955 - val_loss: 5.1828 - val_accuracy: 0.6640\n",
            "Epoch 18/30\n",
            "100/100 [==============================] - 110s 1s/step - loss: 7.7357 - accuracy: 0.4985 - val_loss: 5.2291 - val_accuracy: 0.6610\n",
            "Epoch 19/30\n",
            "100/100 [==============================] - 110s 1s/step - loss: 7.7512 - accuracy: 0.4975 - val_loss: 5.0902 - val_accuracy: 0.6700\n",
            "Epoch 20/30\n",
            "100/100 [==============================] - 116s 1s/step - loss: 7.7202 - accuracy: 0.4995 - val_loss: 5.1674 - val_accuracy: 0.6650\n",
            "Epoch 21/30\n",
            "100/100 [==============================] - 110s 1s/step - loss: 7.7280 - accuracy: 0.4990 - val_loss: 5.0594 - val_accuracy: 0.6720\n",
            "Epoch 22/30\n",
            "100/100 [==============================] - 109s 1s/step - loss: 7.7822 - accuracy: 0.4955 - val_loss: 5.0285 - val_accuracy: 0.6740\n",
            "Epoch 23/30\n",
            "100/100 [==============================] - 109s 1s/step - loss: 7.7047 - accuracy: 0.5005 - val_loss: 5.1828 - val_accuracy: 0.6640\n",
            "Epoch 24/30\n",
            "100/100 [==============================] - 110s 1s/step - loss: 7.7667 - accuracy: 0.4965 - val_loss: 5.2599 - val_accuracy: 0.6590\n",
            "Epoch 25/30\n",
            "100/100 [==============================] - 111s 1s/step - loss: 7.7512 - accuracy: 0.4975 - val_loss: 5.1365 - val_accuracy: 0.6670\n",
            "Epoch 26/30\n",
            "100/100 [==============================] - 109s 1s/step - loss: 7.7125 - accuracy: 0.5000 - val_loss: 5.0440 - val_accuracy: 0.6730\n",
            "Epoch 27/30\n",
            "100/100 [==============================] - 112s 1s/step - loss: 7.7280 - accuracy: 0.4990 - val_loss: 5.0902 - val_accuracy: 0.6700\n",
            "Epoch 28/30\n",
            "100/100 [==============================] - 110s 1s/step - loss: 7.7435 - accuracy: 0.4980 - val_loss: 5.0748 - val_accuracy: 0.6710\n",
            "Epoch 29/30\n",
            "100/100 [==============================] - 113s 1s/step - loss: 7.7822 - accuracy: 0.4955 - val_loss: 5.2445 - val_accuracy: 0.6600\n",
            "Epoch 30/30\n",
            "100/100 [==============================] - 111s 1s/step - loss: 7.7742 - accuracy: 0.4960 - val_loss: 5.1057 - val_accuracy: 0.6690\n"
          ]
        }
      ],
      "source": [
        "history = model.fit(\n",
        "        train_generator, \n",
        "        steps_per_epoch=100, \n",
        "        epochs=30, \n",
        "        validation_data=validation_generator, \n",
        "        validation_steps=50)\n",
        "\n",
        "model.save('/content/drive/MyDrive/cats-and-dogs/cats-and-dogs-scratch.h5')"
      ]
    },
    {
      "cell_type": "code",
      "execution_count": 5,
      "metadata": {
        "id": "jhvAMbuZ8ljc",
        "colab": {
          "base_uri": "https://localhost:8080/",
          "height": 545
        },
        "outputId": "35ca840a-50ae-4a11-af1d-851daa72fce7"
      },
      "outputs": [
        {
          "output_type": "display_data",
          "data": {
            "text/plain": [
              "<Figure size 432x288 with 1 Axes>"
            ],
            "image/png": "[encoded data removed]"
          },
          "metadata": {
            "needs_background": "light"
          }
        },
        {
          "output_type": "display_data",
          "data": {
            "text/plain": [
              "<Figure size 432x288 with 1 Axes>"
            ],
            "image/png": "[encoded data removed]"
          },
          "metadata": {
            "needs_background": "light"
          }
        }
      ],
      "source": [
        "import matplotlib.pyplot as plt \n",
        "\n",
        "acc = history.history['accuracy']\n",
        "val_acc = history.history['val_accuracy']\n",
        "loss = history.history['loss']\n",
        "val_loss = history.history['val_loss']\n",
        "epochs = [x for x in range(1, len(acc) + 1)]\n",
        "\n",
        "plt.plot(epochs, acc, 'r', label='Training acc')\n",
        "plt.plot(epochs, val_acc, 'b', label='Validation acc')\n",
        "plt.title('Training and validation accuracy')\n",
        "plt.legend()\n",
        "plt.figure()\n",
        "plt.plot(epochs, loss, 'r', label='Training loss')\n",
        "plt.plot(epochs, val_loss, 'b', label='Validation loss')\n",
        "plt.title('Training and validation loss')\n",
        "plt.legend()\n",
        "plt.show()"
      ]
    },
    {
      "cell_type": "code",
      "source": [
        ""
      ],
      "metadata": {
        "id": "wCdp-mj-Ipls"
      },
      "execution_count": null,
      "outputs": []
    }
  ],
  "metadata": {
    "colab": {
      "name": "CatsDogsKaggle.ipynb",
      "provenance": [],
      "collapsed_sections": [],
      "mount_file_id": "1Bw3cXQbZ_bMIpHKPFWoc8-0JHX7EU1BB",
      "authorship_tag": "ABX9TyMqNYqfE/FIeSQEG1OxqhXa",
      "include_colab_link": true
    },
    "kernelspec": {
      "display_name": "Python 3",
      "name": "python3"
    },
    "language_info": {
      "name": "python"
    }
  },
  "nbformat": 4,
  "nbformat_minor": 0
}